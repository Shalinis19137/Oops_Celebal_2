{
  "nbformat": 4,
  "nbformat_minor": 0,
  "metadata": {
    "colab": {
      "provenance": []
    },
    "kernelspec": {
      "name": "python3",
      "display_name": "Python 3"
    },
    "language_info": {
      "name": "python"
    }
  },
  "cells": [
    {
      "cell_type": "markdown",
      "source": [
        "OBJECT ORIENTED PROGRAMING IN PYTHON"
      ],
      "metadata": {
        "id": "SuKall4LHKy3"
      }
    },
    {
      "cell_type": "markdown",
      "source": [
        " Q1   Create a Python program that implements a singly linked list using Object-Oriented Programming (OOP) principles. Your implementation should include the following: A Node class to represent each node in the list. A LinkedList class to manage the nodes, with methods to: Add a node to the end of the list Print the list Delete the nth node (where n is a 1-based index) Include exception handling to manage edge cases such as: Deleting a node from an empty list Deleting a node with an index out of range Test your implementation with at least one sample list\n",
        "\n",
        "\n"
      ],
      "metadata": {
        "id": "JynsuSqyHWAg"
      }
    },
    {
      "cell_type": "markdown",
      "source": [
        "Sample Usage\n"
      ],
      "metadata": {
        "id": "Hge2vt2NKq8n"
      }
    },
    {
      "cell_type": "code",
      "source": [
        "class Node:\n",
        "    \"\"\"\n",
        "    Represents a node in a singly linked list.\n",
        "    Each node holds some data and a reference to the next node.\n",
        "    \"\"\"\n",
        "    def __init__(self, data):\n",
        "        self.data = data\n",
        "        self.next = None\n",
        "\n",
        "\n",
        "class LinkedList:\n",
        "    \"\"\"\n",
        "    Manages the singly linked list operations such as insertion,\n",
        "    deletion, and displaying the list contents.\n",
        "    \"\"\"\n",
        "    def __init__(self):\n",
        "        self.head = None\n",
        "\n",
        "    def append(self, data):\n",
        "        \"\"\"\n",
        "        Appends a new node with the given data to the end of the list.\n",
        "        \"\"\"\n",
        "        new_node = Node(data)\n",
        "        if self.head is None:\n",
        "            self.head = new_node\n",
        "            print(f\"[INFO] {data} added as the head of the list.\")\n",
        "        else:\n",
        "            current = self.head\n",
        "            while current.next:\n",
        "                current = current.next\n",
        "            current.next = new_node\n",
        "            print(f\"[INFO] {data} appended to the end of the list.\")\n",
        "\n",
        "    def display(self):\n",
        "        \"\"\"\n",
        "        Displays the linked list in a readable format.\n",
        "        \"\"\"\n",
        "        if self.head is None:\n",
        "            print(\"[INFO] The list is currently empty.\")\n",
        "            return\n",
        "\n",
        "        current = self.head\n",
        "        elements = []\n",
        "        while current:\n",
        "            elements.append(str(current.data))\n",
        "            current = current.next\n",
        "\n",
        "        print(\"Linked List: \" + \" -> \".join(elements) + \" -> None\")\n",
        "\n",
        "    def delete_by_position(self, position):\n",
        "        \"\"\"\n",
        "        Deletes the node at the given 1-based position in the list.\n",
        "        Raises IndexError for invalid positions.\n",
        "        \"\"\"\n",
        "        try:\n",
        "            if self.head is None:\n",
        "                raise IndexError(\"Cannot delete from an empty list.\")\n",
        "\n",
        "            if position < 1:\n",
        "                raise IndexError(\"Position must be a positive integer.\")\n",
        "\n",
        "            if position == 1:\n",
        "                removed_data = self.head.data\n",
        "                self.head = self.head.next\n",
        "                print(f\"[INFO] Node at position {position} with value {removed_data} deleted.\")\n",
        "                return\n",
        "\n",
        "            current = self.head\n",
        "            for _ in range(position - 2):\n",
        "                if current.next is None:\n",
        "                    raise IndexError(\"Position out of bounds.\")\n",
        "                current = current.next\n",
        "\n",
        "            if current.next is None:\n",
        "                raise IndexError(\"Position out of bounds.\")\n",
        "\n",
        "            removed_data = current.next.data\n",
        "            current.next = current.next.next\n",
        "            print(f\"[INFO] Node at position {position} with value {removed_data} deleted.\")\n",
        "\n",
        "        except IndexError as e:\n",
        "            print(f\"[ERROR] {e}\")\n",
        "\n",
        "\n",
        "# === Sample Usage ===\n",
        "if __name__ == \"__main__\":\n",
        "    my_list = LinkedList()\n",
        "\n",
        "    # Insert sample elements\n",
        "    my_list.append(10)\n",
        "    print()\n",
        "    my_list.append(20)\n",
        "    print()\n",
        "    my_list.append(30)\n",
        "    print()\n",
        "    my_list.append(40)\n",
        "    print()\n",
        "    my_list.display()\n",
        "\n",
        "    # Delete 2nd element\n",
        "    print()\n",
        "    my_list.delete_by_position(2)\n",
        "    my_list.display()\n",
        "\n",
        "    # Try invalid deletions\n",
        "    print()\n",
        "    my_list.delete_by_position(10)  # Out of range\n",
        "    my_list.delete_by_position(0)   # Invalid index\n",
        "\n",
        "    # Empty the list completely\n",
        "    print()\n",
        "    my_list.delete_by_position(1)\n",
        "    print()\n",
        "    my_list.delete_by_position(1)\n",
        "    print()\n",
        "    my_list.delete_by_position(1)\n",
        "    print()\n",
        "    my_list.display()\n",
        "\n",
        "    # Try deleting from empty list\n",
        "    my_list.delete_by_position(1)\n"
      ],
      "metadata": {
        "colab": {
          "base_uri": "https://localhost:8080/"
        },
        "id": "PrLt0a0MMQ8D",
        "outputId": "9dff2e25-d448-4c7c-bdbb-746d48da0444"
      },
      "execution_count": 48,
      "outputs": [
        {
          "output_type": "stream",
          "name": "stdout",
          "text": [
            "[INFO] 10 added as the head of the list.\n",
            "\n",
            "[INFO] 20 appended to the end of the list.\n",
            "\n",
            "[INFO] 30 appended to the end of the list.\n",
            "\n",
            "[INFO] 40 appended to the end of the list.\n",
            "\n",
            "Linked List: 10 -> 20 -> 30 -> 40 -> None\n",
            "\n",
            "[INFO] Node at position 2 with value 20 deleted.\n",
            "Linked List: 10 -> 30 -> 40 -> None\n",
            "\n",
            "[ERROR] Position out of bounds.\n",
            "[ERROR] Position must be a positive integer.\n",
            "\n",
            "[INFO] Node at position 1 with value 10 deleted.\n",
            "\n",
            "[INFO] Node at position 1 with value 30 deleted.\n",
            "\n",
            "[INFO] Node at position 1 with value 40 deleted.\n",
            "\n",
            "[INFO] The list is currently empty.\n",
            "[ERROR] Cannot delete from an empty list.\n"
          ]
        }
      ]
    }
  ]
}